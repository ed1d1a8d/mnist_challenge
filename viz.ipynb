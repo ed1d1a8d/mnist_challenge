{
 "cells": [
  {
   "cell_type": "markdown",
   "metadata": {},
   "source": [
    "### Load libraries"
   ]
  },
  {
   "cell_type": "code",
   "execution_count": 1,
   "metadata": {},
   "outputs": [],
   "source": [
    "import matplotlib.pyplot as plt\n",
    "import numpy as np\n",
    "from tensorflow.examples.tutorials.mnist import input_data"
   ]
  },
  {
   "cell_type": "markdown",
   "metadata": {},
   "source": [
    "### Load data"
   ]
  },
  {
   "cell_type": "code",
   "execution_count": null,
   "metadata": {},
   "outputs": [],
   "source": [
    "%%capture\n",
    "mnist = input_data.read_data_sets('MNIST_data', one_hot=False)"
   ]
  },
  {
   "cell_type": "code",
   "execution_count": null,
   "metadata": {},
   "outputs": [],
   "source": [
    "xs = np.load(\"attack.npy\")\n",
    "ys = mnist.test.labels\n",
    "preds = np.load(\"pred.npy\")\n",
    "\n",
    "print(xs.min(), xs.max())\n",
    "(ys == preds).mean()"
   ]
  },
  {
   "cell_type": "markdown",
   "metadata": {},
   "source": [
    "### Visualize all images"
   ]
  },
  {
   "cell_type": "code",
   "execution_count": null,
   "metadata": {},
   "outputs": [],
   "source": [
    "n = 60\n",
    "rows = 6\n",
    "for i, (x, y, pred) in enumerate(zip(xs, ys, preds)):\n",
    "    if i >= n: break\n",
    "    plt.subplot(rows, n // rows, i + 1)\n",
    "    plt.imshow(x.reshape(28, 28))\n",
    "    plt.axis('off')\n",
    "\n",
    "print(\"True:\", ys[:n])\n",
    "print(\"Pred:\", preds[:n])"
   ]
  },
  {
   "cell_type": "markdown",
   "metadata": {},
   "source": [
    "Igor's predictions:\n",
    "```\n",
    "7 2 1 6 4 1 4 9 5 9\n",
    "0 6 9 0 1 5 9 7 8 4\n",
    "9 6 6 5 4 0 7 4 0 1\n",
    "3 1 3 4 7 2 7 1 2 1\n",
    "1 7 9 4 3 5 1 2 4 4\n",
    "6 3 5 5 6 0 4 1 9 5\n",
    "```"
   ]
  },
  {
   "cell_type": "code",
   "execution_count": null,
   "metadata": {},
   "outputs": [],
   "source": [
    "igor_preds = np.array([\n",
    "    7,2,1,6,4,1,4,9,5,9,\n",
    "    0,6,9,0,1,5,9,7,8,4,\n",
    "    9,6,6,5,4,0,7,4,0,1,\n",
    "    3,1,3,4,7,2,7,1,2,1,\n",
    "    1,7,9,4,3,5,1,2,4,4,\n",
    "    6,3,5,5,6,0,4,1,9,5,\n",
    "])\n",
    "(igor_preds == ys[:n]).mean()"
   ]
  },
  {
   "cell_type": "markdown",
   "metadata": {},
   "source": [
    "### Visualize mispredicted images"
   ]
  },
  {
   "cell_type": "code",
   "execution_count": null,
   "metadata": {},
   "outputs": [],
   "source": [
    "mask = ys != preds\n",
    "xs_bad = xs[mask]\n",
    "ys_bad = ys[mask]\n",
    "preds_bad = preds[mask]\n",
    "\n",
    "n = 60\n",
    "rows = 6\n",
    "for i, (x, y, pred) in enumerate(zip(xs_bad, ys_bad, preds_bad)):\n",
    "    if i >= n: break\n",
    "    plt.subplot(rows, n // rows, i + 1)\n",
    "    plt.imshow(x.reshape(28, 28))\n",
    "    plt.axis('off')\n",
    "\n",
    "print(\"True:\", ys_bad[:n])\n",
    "print(\"Pred:\", preds_bad[:n])"
   ]
  },
  {
   "cell_type": "markdown",
   "metadata": {},
   "source": [
    "Igor's predictions:\n",
    "```\n",
    "3 9 4 4 9 3 1 8 9 9\n",
    "4 4 6 9 8 8 9 2 3 5\n",
    "8 4 3 8 5 5 9 8 6 4\n",
    "9 5 5 7 8 9 9 8 8 7\n",
    "4 4 3 8 7 8 7 4 8 3\n",
    "5 4 7 3 7 1 8 7 5 4\n",
    "```"
   ]
  },
  {
   "cell_type": "code",
   "execution_count": null,
   "metadata": {},
   "outputs": [],
   "source": [
    "igor_preds = np.array([\n",
    "    3,9,4,4,9,3,1,8,9,9,\n",
    "    4,4,6,9,8,8,9,2,3,5,\n",
    "    8,4,3,8,5,5,9,8,6,4,\n",
    "    9,5,5,7,8,9,9,8,8,7,\n",
    "    4,4,3,8,7,8,7,4,8,3,\n",
    "    5,4,7,3,7,1,8,7,5,4,\n",
    "])\n",
    "(igor_preds == ys_bad[:n]).mean()"
   ]
  }
 ],
 "metadata": {
  "kernelspec": {
   "display_name": "Python 3.7.12 ('mnist-challenge-tmp')",
   "language": "python",
   "name": "python3"
  },
  "language_info": {
   "codemirror_mode": {
    "name": "ipython",
    "version": 3
   },
   "file_extension": ".py",
   "mimetype": "text/x-python",
   "name": "python",
   "nbconvert_exporter": "python",
   "pygments_lexer": "ipython3",
   "version": "3.7.12"
  },
  "orig_nbformat": 4,
  "vscode": {
   "interpreter": {
    "hash": "3627a1758f4a1e86487bdbdc00209e7d6c68c1edb58ebfc099d97cde25198412"
   }
  }
 },
 "nbformat": 4,
 "nbformat_minor": 2
}
